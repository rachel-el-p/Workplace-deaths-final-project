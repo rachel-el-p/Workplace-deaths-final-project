{
 "cells": [
  {
   "cell_type": "code",
   "execution_count": 3,
   "id": "7e3dd829",
   "metadata": {},
   "outputs": [],
   "source": [
    "import requests\n",
    "from bs4 import BeautifulSoup\n",
    "import pandas as pd"
   ]
  },
  {
   "cell_type": "code",
   "execution_count": 4,
   "id": "155dbe95",
   "metadata": {},
   "outputs": [],
   "source": [
    "import numpy as np"
   ]
  },
  {
   "cell_type": "code",
   "execution_count": 5,
   "id": "712fa093",
   "metadata": {},
   "outputs": [],
   "source": [
    "import time"
   ]
  },
  {
   "cell_type": "code",
   "execution_count": null,
   "id": "deaba9de",
   "metadata": {},
   "outputs": [],
   "source": [
    "my_url = \"https://www.osha.gov/fatalities\"\n",
    "raw_html = requests.get(my_url).content\n",
    "raw_html"
   ]
  },
  {
   "cell_type": "code",
   "execution_count": 7,
   "id": "bd115458",
   "metadata": {},
   "outputs": [
    {
     "name": "stdout",
     "output_type": "stream",
     "text": [
      "<class 'bs4.BeautifulSoup'>\n"
     ]
    }
   ],
   "source": [
    "soup_doc = BeautifulSoup(raw_html, \"html.parser\")\n",
    "print(type(soup_doc))"
   ]
  },
  {
   "cell_type": "code",
   "execution_count": 9,
   "id": "69f62ec8",
   "metadata": {},
   "outputs": [],
   "source": [
    "#tbody tr td a\n",
    "all_rows = soup_doc.find_all('tr')\n",
    "\n",
    "#link=all_rows[4].a['href']\n",
    "#link"
   ]
  },
  {
   "cell_type": "code",
   "execution_count": null,
   "id": "7d4c67eb",
   "metadata": {},
   "outputs": [],
   "source": [
    "all_entries =[]\n",
    "for row in all_rows:\n",
    "    if row.a:\n",
    "        link= row.a[\"href\"]\n",
    "        all_entries.append(link)\n",
    "all_entries"
   ]
  },
  {
   "cell_type": "code",
   "execution_count": null,
   "id": "bb382649",
   "metadata": {},
   "outputs": [],
   "source": [
    "details = []\n",
    "for detail_page in all_entries[1:]:\n",
    "    my_url = detail_page\n",
    "    time.sleep(1)\n",
    "    raw_html_2 = requests.get(my_url).content\n",
    "    soup_doc_2 = BeautifulSoup(raw_html_2, \"html.parser\")\n",
    "    all_details = soup_doc_2.find_all(class_=\"span4\")\n",
    "    for content in all_details:\n",
    "        union_and_inspection = {}\n",
    "        if content.strong:\n",
    "            if content.strong.string == \"Union Status\":\n",
    "                print(content.p.text)\n",
    "                union_and_inspection[\"union_status\"] = content.p.text\n",
    "            if content.strong.string == \"Inspection Nr\":\n",
    "                print(content.text)\n",
    "                union_and_inspection[\"inspection_no\"]=content.text\n",
    "            details.append(union_and_inspection)\n",
    "        else:\n",
    "            print(\"FIND UNION STATUS\")\n",
    "details"
   ]
  },
  {
   "cell_type": "code",
   "execution_count": null,
   "id": "6e063ae7",
   "metadata": {},
   "outputs": [],
   "source": [
    "details=union_all\n",
    "union_all = list(filter(None, union_all))\n",
    "union_all"
   ]
  },
  {
   "cell_type": "code",
   "execution_count": null,
   "id": "f51b6493",
   "metadata": {},
   "outputs": [],
   "source": [
    "joined_list = []\n",
    "for x in range(0,len(union_all),2):\n",
    "    innerlist = []\n",
    "    innerlist.append(union_all[x])\n",
    "    innerlist.append(union_all[x+1])\n",
    "    joined_list.append(innerlist)\n",
    "union_df = pd.DataFrame (joined_list)\n",
    "union_df.columns =['inspection_no', 'union_status']\n",
    "union_df['inspection_no_new'] = union_df.inspection_no.apply(lambda data: data['inspection_no'])\n",
    "union_df['union_status_new'] = union_df.union_status.apply(lambda data: data['union_status'])\n",
    "union_df.drop(columns=['inspection_no', 'union_status'])\n",
    "union_df"
   ]
  },
  {
   "cell_type": "code",
   "execution_count": 106,
   "id": "42d3d9cd",
   "metadata": {},
   "outputs": [],
   "source": [
    "union_df.to_csv('unioninfo.csv', index=False)"
   ]
  },
  {
   "cell_type": "code",
   "execution_count": 107,
   "id": "d27b7c89",
   "metadata": {},
   "outputs": [
    {
     "data": {
      "text/plain": [
       "Union Status: NonUnion    5758\n",
       "Union Status: Union        675\n",
       "Name: union_status_new, dtype: int64"
      ]
     },
     "execution_count": 107,
     "metadata": {},
     "output_type": "execute_result"
    }
   ],
   "source": [
    "union_df.union_status_new.value_counts()"
   ]
  }
 ],
 "metadata": {
  "kernelspec": {
   "display_name": "Python 3 (ipykernel)",
   "language": "python",
   "name": "python3"
  },
  "language_info": {
   "codemirror_mode": {
    "name": "ipython",
    "version": 3
   },
   "file_extension": ".py",
   "mimetype": "text/x-python",
   "name": "python",
   "nbconvert_exporter": "python",
   "pygments_lexer": "ipython3",
   "version": "3.11.0rc2"
  }
 },
 "nbformat": 4,
 "nbformat_minor": 5
}
