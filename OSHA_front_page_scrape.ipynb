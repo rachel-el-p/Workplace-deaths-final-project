{
 "cells": [
  {
   "cell_type": "code",
   "execution_count": 1,
   "id": "f6eee273",
   "metadata": {},
   "outputs": [],
   "source": [
    "from playwright.async_api import async_playwright"
   ]
  },
  {
   "cell_type": "code",
   "execution_count": 2,
   "id": "6b801fc0",
   "metadata": {},
   "outputs": [],
   "source": [
    "playwright = await async_playwright().start()\n",
    "browser = await playwright.chromium.launch(headless = False)\n",
    "page = await browser.new_page()"
   ]
  },
  {
   "cell_type": "code",
   "execution_count": 3,
   "id": "18b7b212",
   "metadata": {},
   "outputs": [
    {
     "data": {
      "text/plain": [
       "<Response url='https://www.osha.gov/fatalities' request=<Request url='https://www.osha.gov/fatalities' method='GET'>>"
      ]
     },
     "execution_count": 3,
     "metadata": {},
     "output_type": "execute_result"
    }
   ],
   "source": [
    "url = \"https://www.osha.gov/fatalities\"\n",
    "await page.goto(url)"
   ]
  },
  {
   "cell_type": "code",
   "execution_count": 4,
   "id": "1e40ff63",
   "metadata": {},
   "outputs": [],
   "source": [
    "import requests"
   ]
  },
  {
   "cell_type": "code",
   "execution_count": 5,
   "id": "f096b1c2",
   "metadata": {},
   "outputs": [],
   "source": [
    "from bs4 import BeautifulSoup"
   ]
  },
  {
   "cell_type": "code",
   "execution_count": 6,
   "id": "a49654b0",
   "metadata": {},
   "outputs": [],
   "source": [
    "import pandas as pd"
   ]
  },
  {
   "cell_type": "code",
   "execution_count": 7,
   "id": "26bf4a5f",
   "metadata": {},
   "outputs": [],
   "source": [
    "await page.locator(\".btn.next\").click()"
   ]
  },
  {
   "cell_type": "code",
   "execution_count": null,
   "id": "0962e362",
   "metadata": {},
   "outputs": [],
   "source": [
    "while True:\n",
    "    try:\n",
    "        print(\"Trying to click the button\")\n",
    "        # Attempt to click the button\n",
    "        await page.locator(\".btn.next\").click()\n",
    "    except:\n",
    "        print(\"Could not click the button\")\n",
    "        # Oh no, we got an error, no button found!\n",
    "        # pass means \"don't do anything\"\n",
    "        # 'break' is going to exit the loop\n",
    "        # and not print an error\n",
    "        break"
   ]
  },
  {
   "cell_type": "code",
   "execution_count": null,
   "id": "f5a07c8d",
   "metadata": {},
   "outputs": [],
   "source": [
    "dataframes = []\n",
    "\n",
    "while True:\n",
    "    try:\n",
    "        tables = pd.read_html(await page.content())\n",
    "        df = tables[0]\n",
    "        \n",
    "        dataframes.append(df)\n",
    "        \n",
    "        print(\"Trying to click the button\")\n",
    "        await page.locator(\".btn.next\").click(timeout=2000)\n",
    "    except:\n",
    "        print(\"Could not click the button\")\n",
    "        break\n",
    "\n",
    "print(\"Now we have\", len(dataframes), \"dataframes\")"
   ]
  },
  {
   "cell_type": "code",
   "execution_count": 13,
   "id": "722859bc",
   "metadata": {},
   "outputs": [
    {
     "data": {
      "text/plain": [
       "(6449, 7)"
      ]
     },
     "execution_count": 13,
     "metadata": {},
     "output_type": "execute_result"
    }
   ],
   "source": [
    "df = pd.concat(dataframes, ignore_index=True)\n",
    "df.shape"
   ]
  },
  {
   "cell_type": "code",
   "execution_count": null,
   "id": "224ad575",
   "metadata": {},
   "outputs": [],
   "source": [
    "df.head()"
   ]
  },
  {
   "cell_type": "code",
   "execution_count": 16,
   "id": "c3b7ccd4",
   "metadata": {},
   "outputs": [],
   "source": [
    "df.columns = ['date_of_incident','city','state', 'cause','inspection_number','federal_or_state_case','citation']"
   ]
  },
  {
   "cell_type": "code",
   "execution_count": 17,
   "id": "d20145bd",
   "metadata": {},
   "outputs": [
    {
     "data": {
      "text/plain": [
       "date_of_incident          object\n",
       "city                      object\n",
       "state                     object\n",
       "cause                     object\n",
       "inspection_number        float64\n",
       "federal_or_state_case     object\n",
       "citation                  object\n",
       "dtype: object"
      ]
     },
     "execution_count": 17,
     "metadata": {},
     "output_type": "execute_result"
    }
   ],
   "source": [
    "df.dtypes"
   ]
  },
  {
   "cell_type": "code",
   "execution_count": null,
   "id": "a1b312a5",
   "metadata": {},
   "outputs": [],
   "source": [
    "df.head()"
   ]
  },
  {
   "cell_type": "code",
   "execution_count": 19,
   "id": "cea35c99",
   "metadata": {},
   "outputs": [],
   "source": [
    "df.to_csv(\"OSHA_uncleaned.csv\", index=False)"
   ]
  }
 ],
 "metadata": {
  "kernelspec": {
   "display_name": "Python 3 (ipykernel)",
   "language": "python",
   "name": "python3"
  },
  "language_info": {
   "codemirror_mode": {
    "name": "ipython",
    "version": 3
   },
   "file_extension": ".py",
   "mimetype": "text/x-python",
   "name": "python",
   "nbconvert_exporter": "python",
   "pygments_lexer": "ipython3",
   "version": "3.11.0rc2"
  }
 },
 "nbformat": 4,
 "nbformat_minor": 5
}
