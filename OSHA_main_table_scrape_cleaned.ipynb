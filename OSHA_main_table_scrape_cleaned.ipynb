{
 "cells": [
  {
   "cell_type": "code",
   "execution_count": 2,
   "id": "5efedc17",
   "metadata": {},
   "outputs": [],
   "source": [
    "import pandas as pd\n",
    "df=pd.read_csv (\"/Users/rachelp/Documents/OSHA_all_with_geocodes.csv\")"
   ]
  },
  {
   "cell_type": "code",
   "execution_count": 3,
   "id": "084d112e",
   "metadata": {},
   "outputs": [
    {
     "data": {
      "text/html": [
       "<div>\n",
       "<style scoped>\n",
       "    .dataframe tbody tr th:only-of-type {\n",
       "        vertical-align: middle;\n",
       "    }\n",
       "\n",
       "    .dataframe tbody tr th {\n",
       "        vertical-align: top;\n",
       "    }\n",
       "\n",
       "    .dataframe thead th {\n",
       "        text-align: right;\n",
       "    }\n",
       "</style>\n",
       "<table border=\"1\" class=\"dataframe\">\n",
       "  <thead>\n",
       "    <tr style=\"text-align: right;\">\n",
       "      <th></th>\n",
       "      <th>date_of_incident</th>\n",
       "      <th>city</th>\n",
       "      <th>state</th>\n",
       "      <th>cause</th>\n",
       "      <th>inspection_number</th>\n",
       "      <th>citation</th>\n",
       "      <th>Latitude</th>\n",
       "      <th>Longitude</th>\n",
       "    </tr>\n",
       "  </thead>\n",
       "  <tbody>\n",
       "    <tr>\n",
       "      <th>0</th>\n",
       "      <td>11/21/2022</td>\n",
       "      <td>Tampa</td>\n",
       "      <td>FL</td>\n",
       "      <td>Raymond Cruz (52) died in fall from roof.</td>\n",
       "      <td>1635218</td>\n",
       "      <td>No</td>\n",
       "      <td>27.964157</td>\n",
       "      <td>-82.452606</td>\n",
       "    </tr>\n",
       "    <tr>\n",
       "      <th>1</th>\n",
       "      <td>9/27/2022</td>\n",
       "      <td>Lincoln</td>\n",
       "      <td>IL</td>\n",
       "      <td>David Freligh (50) fatally struck by forklift.</td>\n",
       "      <td>1616982</td>\n",
       "      <td>No</td>\n",
       "      <td>40.162779</td>\n",
       "      <td>-89.398361</td>\n",
       "    </tr>\n",
       "    <tr>\n",
       "      <th>2</th>\n",
       "      <td>9/16/2022</td>\n",
       "      <td>Seminole</td>\n",
       "      <td>OK</td>\n",
       "      <td>Teresa Estrada (53) died in fall from roof.</td>\n",
       "      <td>1622790</td>\n",
       "      <td>Yes</td>\n",
       "      <td>35.162228</td>\n",
       "      <td>-96.609139</td>\n",
       "    </tr>\n",
       "    <tr>\n",
       "      <th>3</th>\n",
       "      <td>9/10/2022</td>\n",
       "      <td>Athens</td>\n",
       "      <td>TX</td>\n",
       "      <td>Larry Blank (69) fatally crushed by forklift b...</td>\n",
       "      <td>1621602</td>\n",
       "      <td>No</td>\n",
       "      <td>32.188097</td>\n",
       "      <td>-95.882391</td>\n",
       "    </tr>\n",
       "    <tr>\n",
       "      <th>4</th>\n",
       "      <td>9/8/2022</td>\n",
       "      <td>Columbus</td>\n",
       "      <td>OH</td>\n",
       "      <td>Cole Greenland (20) drowned in retention pond.</td>\n",
       "      <td>1620746</td>\n",
       "      <td>No</td>\n",
       "      <td>40.100924</td>\n",
       "      <td>-83.013402</td>\n",
       "    </tr>\n",
       "  </tbody>\n",
       "</table>\n",
       "</div>"
      ],
      "text/plain": [
       "  date_of_incident      city state  \\\n",
       "0       11/21/2022     Tampa    FL   \n",
       "1        9/27/2022   Lincoln    IL   \n",
       "2        9/16/2022  Seminole    OK   \n",
       "3        9/10/2022    Athens    TX   \n",
       "4         9/8/2022  Columbus    OH   \n",
       "\n",
       "                                               cause inspection_number  \\\n",
       "0          Raymond Cruz (52) died in fall from roof.           1635218   \n",
       "1     David Freligh (50) fatally struck by forklift.           1616982   \n",
       "2        Teresa Estrada (53) died in fall from roof.           1622790   \n",
       "3  Larry Blank (69) fatally crushed by forklift b...           1621602   \n",
       "4     Cole Greenland (20) drowned in retention pond.           1620746   \n",
       "\n",
       "  citation   Latitude  Longitude  \n",
       "0       No  27.964157 -82.452606  \n",
       "1       No  40.162779 -89.398361  \n",
       "2      Yes  35.162228 -96.609139  \n",
       "3       No  32.188097 -95.882391  \n",
       "4       No  40.100924 -83.013402  "
      ]
     },
     "execution_count": 3,
     "metadata": {},
     "output_type": "execute_result"
    }
   ],
   "source": [
    "df.head()"
   ]
  },
  {
   "cell_type": "code",
   "execution_count": 4,
   "id": "744d1079",
   "metadata": {},
   "outputs": [],
   "source": [
    "df['struck'] = df.cause.str.extract(r'(\\bstruck\\b)', expand=False)"
   ]
  },
  {
   "cell_type": "code",
   "execution_count": 5,
   "id": "948f2d2c",
   "metadata": {},
   "outputs": [],
   "source": [
    "df['fall'] = df.cause.str.extract(r'(\\bfall\\b)', expand=False)"
   ]
  },
  {
   "cell_type": "code",
   "execution_count": 6,
   "id": "839c37ac",
   "metadata": {},
   "outputs": [],
   "source": [
    "df['shot']= df.cause.str.extract(r'(\\bshot\\b)', expand=False)"
   ]
  },
  {
   "cell_type": "code",
   "execution_count": 7,
   "id": "1cb8f77c",
   "metadata": {},
   "outputs": [],
   "source": [
    "df['stabbed']= df.cause.str.extract(r'(\\bstab\\w*\\b)', expand=False)"
   ]
  },
  {
   "cell_type": "code",
   "execution_count": 8,
   "id": "dd039b11",
   "metadata": {},
   "outputs": [],
   "source": [
    "df['crushed'] = df.cause.str.extract(r'(\\bcrush\\w*\\b)', expand=False)\n",
    "df['electrocuted']=df.cause.str.extract(r'(\\belectrocute\\w*\\b)', expand=False)\n",
    "df['heat']=df.cause.str.extract(r'(\\bheat\\b)', expand=False)"
   ]
  },
  {
   "cell_type": "code",
   "execution_count": 9,
   "id": "f956a6e0",
   "metadata": {},
   "outputs": [],
   "source": [
    "pd.options.display.max_colwidth = None"
   ]
  },
  {
   "cell_type": "code",
   "execution_count": 10,
   "id": "5a8085be",
   "metadata": {},
   "outputs": [
    {
     "data": {
      "text/html": [
       "<div>\n",
       "<style scoped>\n",
       "    .dataframe tbody tr th:only-of-type {\n",
       "        vertical-align: middle;\n",
       "    }\n",
       "\n",
       "    .dataframe tbody tr th {\n",
       "        vertical-align: top;\n",
       "    }\n",
       "\n",
       "    .dataframe thead th {\n",
       "        text-align: right;\n",
       "    }\n",
       "</style>\n",
       "<table border=\"1\" class=\"dataframe\">\n",
       "  <thead>\n",
       "    <tr style=\"text-align: right;\">\n",
       "      <th></th>\n",
       "      <th>date_of_incident</th>\n",
       "      <th>city</th>\n",
       "      <th>state</th>\n",
       "      <th>cause</th>\n",
       "      <th>inspection_number</th>\n",
       "      <th>citation</th>\n",
       "      <th>Latitude</th>\n",
       "      <th>Longitude</th>\n",
       "      <th>struck</th>\n",
       "      <th>fall</th>\n",
       "      <th>shot</th>\n",
       "      <th>stabbed</th>\n",
       "      <th>crushed</th>\n",
       "      <th>electrocuted</th>\n",
       "      <th>heat</th>\n",
       "    </tr>\n",
       "  </thead>\n",
       "  <tbody>\n",
       "    <tr>\n",
       "      <th>0</th>\n",
       "      <td>11/21/2022</td>\n",
       "      <td>Tampa</td>\n",
       "      <td>FL</td>\n",
       "      <td>Raymond Cruz (52) died in fall from roof.</td>\n",
       "      <td>1635218</td>\n",
       "      <td>No</td>\n",
       "      <td>27.964157</td>\n",
       "      <td>-82.452606</td>\n",
       "      <td>NaN</td>\n",
       "      <td>fall</td>\n",
       "      <td>NaN</td>\n",
       "      <td>NaN</td>\n",
       "      <td>NaN</td>\n",
       "      <td>NaN</td>\n",
       "      <td>NaN</td>\n",
       "    </tr>\n",
       "    <tr>\n",
       "      <th>1</th>\n",
       "      <td>9/27/2022</td>\n",
       "      <td>Lincoln</td>\n",
       "      <td>IL</td>\n",
       "      <td>David Freligh (50) fatally struck by forklift.</td>\n",
       "      <td>1616982</td>\n",
       "      <td>No</td>\n",
       "      <td>40.162779</td>\n",
       "      <td>-89.398361</td>\n",
       "      <td>struck</td>\n",
       "      <td>NaN</td>\n",
       "      <td>NaN</td>\n",
       "      <td>NaN</td>\n",
       "      <td>NaN</td>\n",
       "      <td>NaN</td>\n",
       "      <td>NaN</td>\n",
       "    </tr>\n",
       "    <tr>\n",
       "      <th>2</th>\n",
       "      <td>9/16/2022</td>\n",
       "      <td>Seminole</td>\n",
       "      <td>OK</td>\n",
       "      <td>Teresa Estrada (53) died in fall from roof.</td>\n",
       "      <td>1622790</td>\n",
       "      <td>Yes</td>\n",
       "      <td>35.162228</td>\n",
       "      <td>-96.609139</td>\n",
       "      <td>NaN</td>\n",
       "      <td>fall</td>\n",
       "      <td>NaN</td>\n",
       "      <td>NaN</td>\n",
       "      <td>NaN</td>\n",
       "      <td>NaN</td>\n",
       "      <td>NaN</td>\n",
       "    </tr>\n",
       "    <tr>\n",
       "      <th>3</th>\n",
       "      <td>9/10/2022</td>\n",
       "      <td>Athens</td>\n",
       "      <td>TX</td>\n",
       "      <td>Larry Blank (69) fatally crushed by forklift boom.</td>\n",
       "      <td>1621602</td>\n",
       "      <td>No</td>\n",
       "      <td>32.188097</td>\n",
       "      <td>-95.882391</td>\n",
       "      <td>NaN</td>\n",
       "      <td>NaN</td>\n",
       "      <td>NaN</td>\n",
       "      <td>NaN</td>\n",
       "      <td>crushed</td>\n",
       "      <td>NaN</td>\n",
       "      <td>NaN</td>\n",
       "    </tr>\n",
       "    <tr>\n",
       "      <th>4</th>\n",
       "      <td>9/8/2022</td>\n",
       "      <td>Columbus</td>\n",
       "      <td>OH</td>\n",
       "      <td>Cole Greenland (20) drowned in retention pond.</td>\n",
       "      <td>1620746</td>\n",
       "      <td>No</td>\n",
       "      <td>40.100924</td>\n",
       "      <td>-83.013402</td>\n",
       "      <td>NaN</td>\n",
       "      <td>NaN</td>\n",
       "      <td>NaN</td>\n",
       "      <td>NaN</td>\n",
       "      <td>NaN</td>\n",
       "      <td>NaN</td>\n",
       "      <td>NaN</td>\n",
       "    </tr>\n",
       "    <tr>\n",
       "      <th>...</th>\n",
       "      <td>...</td>\n",
       "      <td>...</td>\n",
       "      <td>...</td>\n",
       "      <td>...</td>\n",
       "      <td>...</td>\n",
       "      <td>...</td>\n",
       "      <td>...</td>\n",
       "      <td>...</td>\n",
       "      <td>...</td>\n",
       "      <td>...</td>\n",
       "      <td>...</td>\n",
       "      <td>...</td>\n",
       "      <td>...</td>\n",
       "      <td>...</td>\n",
       "      <td>...</td>\n",
       "    </tr>\n",
       "    <tr>\n",
       "      <th>6442</th>\n",
       "      <td>1/3/2017</td>\n",
       "      <td>Cut and Shoot</td>\n",
       "      <td>TX</td>\n",
       "      <td>Worker died in fall from tree.</td>\n",
       "      <td>1200354</td>\n",
       "      <td>No</td>\n",
       "      <td>30.333265</td>\n",
       "      <td>-95.357994</td>\n",
       "      <td>NaN</td>\n",
       "      <td>fall</td>\n",
       "      <td>NaN</td>\n",
       "      <td>NaN</td>\n",
       "      <td>NaN</td>\n",
       "      <td>NaN</td>\n",
       "      <td>NaN</td>\n",
       "    </tr>\n",
       "    <tr>\n",
       "      <th>6443</th>\n",
       "      <td>1/3/2017</td>\n",
       "      <td>Glendale</td>\n",
       "      <td>KY</td>\n",
       "      <td>Worker fatally stabbed by resident.</td>\n",
       "      <td>1200926</td>\n",
       "      <td>Yes</td>\n",
       "      <td>37.601730</td>\n",
       "      <td>-85.905520</td>\n",
       "      <td>NaN</td>\n",
       "      <td>NaN</td>\n",
       "      <td>NaN</td>\n",
       "      <td>stabbed</td>\n",
       "      <td>NaN</td>\n",
       "      <td>NaN</td>\n",
       "      <td>NaN</td>\n",
       "    </tr>\n",
       "    <tr>\n",
       "      <th>6444</th>\n",
       "      <td>1/3/2017</td>\n",
       "      <td>La Verkin</td>\n",
       "      <td>UT</td>\n",
       "      <td>Worker died after being struck by excavator counterweight.</td>\n",
       "      <td>1201140</td>\n",
       "      <td>No</td>\n",
       "      <td>37.201090</td>\n",
       "      <td>-113.269670</td>\n",
       "      <td>struck</td>\n",
       "      <td>NaN</td>\n",
       "      <td>NaN</td>\n",
       "      <td>NaN</td>\n",
       "      <td>NaN</td>\n",
       "      <td>NaN</td>\n",
       "      <td>NaN</td>\n",
       "    </tr>\n",
       "    <tr>\n",
       "      <th>6445</th>\n",
       "      <td>1/3/2017</td>\n",
       "      <td>Mount Pleasant</td>\n",
       "      <td>TX</td>\n",
       "      <td>Worker died after being struck by tanker truck.</td>\n",
       "      <td>1202375</td>\n",
       "      <td>Yes</td>\n",
       "      <td>33.221010</td>\n",
       "      <td>-94.984645</td>\n",
       "      <td>struck</td>\n",
       "      <td>NaN</td>\n",
       "      <td>NaN</td>\n",
       "      <td>NaN</td>\n",
       "      <td>NaN</td>\n",
       "      <td>NaN</td>\n",
       "      <td>NaN</td>\n",
       "    </tr>\n",
       "    <tr>\n",
       "      <th>6446</th>\n",
       "      <td>1/2/2017</td>\n",
       "      <td>Shakopee</td>\n",
       "      <td>MN</td>\n",
       "      <td>Worker died in fall inside grain tank.</td>\n",
       "      <td>1200640</td>\n",
       "      <td>Yes</td>\n",
       "      <td>44.798610</td>\n",
       "      <td>-93.519440</td>\n",
       "      <td>NaN</td>\n",
       "      <td>fall</td>\n",
       "      <td>NaN</td>\n",
       "      <td>NaN</td>\n",
       "      <td>NaN</td>\n",
       "      <td>NaN</td>\n",
       "      <td>NaN</td>\n",
       "    </tr>\n",
       "  </tbody>\n",
       "</table>\n",
       "<p>6447 rows × 15 columns</p>\n",
       "</div>"
      ],
      "text/plain": [
       "     date_of_incident            city state  \\\n",
       "0          11/21/2022           Tampa    FL   \n",
       "1           9/27/2022         Lincoln    IL   \n",
       "2           9/16/2022        Seminole    OK   \n",
       "3           9/10/2022          Athens    TX   \n",
       "4            9/8/2022        Columbus    OH   \n",
       "...               ...             ...   ...   \n",
       "6442         1/3/2017   Cut and Shoot    TX   \n",
       "6443         1/3/2017        Glendale    KY   \n",
       "6444         1/3/2017       La Verkin    UT   \n",
       "6445         1/3/2017  Mount Pleasant    TX   \n",
       "6446         1/2/2017        Shakopee    MN   \n",
       "\n",
       "                                                           cause  \\\n",
       "0                      Raymond Cruz (52) died in fall from roof.   \n",
       "1                 David Freligh (50) fatally struck by forklift.   \n",
       "2                    Teresa Estrada (53) died in fall from roof.   \n",
       "3             Larry Blank (69) fatally crushed by forklift boom.   \n",
       "4                 Cole Greenland (20) drowned in retention pond.   \n",
       "...                                                          ...   \n",
       "6442                              Worker died in fall from tree.   \n",
       "6443                         Worker fatally stabbed by resident.   \n",
       "6444  Worker died after being struck by excavator counterweight.   \n",
       "6445             Worker died after being struck by tanker truck.   \n",
       "6446                      Worker died in fall inside grain tank.   \n",
       "\n",
       "     inspection_number citation   Latitude   Longitude  struck  fall shot  \\\n",
       "0              1635218       No  27.964157  -82.452606     NaN  fall  NaN   \n",
       "1              1616982       No  40.162779  -89.398361  struck   NaN  NaN   \n",
       "2              1622790      Yes  35.162228  -96.609139     NaN  fall  NaN   \n",
       "3              1621602       No  32.188097  -95.882391     NaN   NaN  NaN   \n",
       "4              1620746       No  40.100924  -83.013402     NaN   NaN  NaN   \n",
       "...                ...      ...        ...         ...     ...   ...  ...   \n",
       "6442           1200354       No  30.333265  -95.357994     NaN  fall  NaN   \n",
       "6443           1200926      Yes  37.601730  -85.905520     NaN   NaN  NaN   \n",
       "6444           1201140       No  37.201090 -113.269670  struck   NaN  NaN   \n",
       "6445           1202375      Yes  33.221010  -94.984645  struck   NaN  NaN   \n",
       "6446           1200640      Yes  44.798610  -93.519440     NaN  fall  NaN   \n",
       "\n",
       "      stabbed  crushed electrocuted heat  \n",
       "0         NaN      NaN          NaN  NaN  \n",
       "1         NaN      NaN          NaN  NaN  \n",
       "2         NaN      NaN          NaN  NaN  \n",
       "3         NaN  crushed          NaN  NaN  \n",
       "4         NaN      NaN          NaN  NaN  \n",
       "...       ...      ...          ...  ...  \n",
       "6442      NaN      NaN          NaN  NaN  \n",
       "6443  stabbed      NaN          NaN  NaN  \n",
       "6444      NaN      NaN          NaN  NaN  \n",
       "6445      NaN      NaN          NaN  NaN  \n",
       "6446      NaN      NaN          NaN  NaN  \n",
       "\n",
       "[6447 rows x 15 columns]"
      ]
     },
     "execution_count": 10,
     "metadata": {},
     "output_type": "execute_result"
    }
   ],
   "source": [
    "df"
   ]
  },
  {
   "cell_type": "code",
   "execution_count": 11,
   "id": "d07f9bdb",
   "metadata": {},
   "outputs": [],
   "source": [
    "df.date_of_incident = pd.to_datetime(df.date_of_incident)"
   ]
  },
  {
   "cell_type": "code",
   "execution_count": 12,
   "id": "18e9b6c0",
   "metadata": {},
   "outputs": [
    {
     "data": {
      "text/plain": [
       "date_of_incident     datetime64[ns]\n",
       "city                         object\n",
       "state                        object\n",
       "cause                        object\n",
       "inspection_number            object\n",
       "citation                     object\n",
       "Latitude                    float64\n",
       "Longitude                   float64\n",
       "struck                       object\n",
       "fall                         object\n",
       "shot                         object\n",
       "stabbed                      object\n",
       "crushed                      object\n",
       "electrocuted                 object\n",
       "heat                         object\n",
       "dtype: object"
      ]
     },
     "execution_count": 12,
     "metadata": {},
     "output_type": "execute_result"
    }
   ],
   "source": [
    "df.dtypes"
   ]
  },
  {
   "cell_type": "code",
   "execution_count": 13,
   "id": "957d763c",
   "metadata": {},
   "outputs": [],
   "source": [
    "df['year'] = df.date_of_incident.dt.year"
   ]
  },
  {
   "cell_type": "code",
   "execution_count": 14,
   "id": "b65e388d",
   "metadata": {},
   "outputs": [
    {
     "data": {
      "text/plain": [
       "2019    1399\n",
       "2018    1273\n",
       "2017    1261\n",
       "2020    1238\n",
       "2021     970\n",
       "2022     306\n",
       "Name: year, dtype: int64"
      ]
     },
     "execution_count": 14,
     "metadata": {},
     "output_type": "execute_result"
    }
   ],
   "source": [
    "df.year.value_counts()\n",
    "\n",
    "#plot this on datawrapper"
   ]
  },
  {
   "cell_type": "code",
   "execution_count": 15,
   "id": "0ced9dee",
   "metadata": {},
   "outputs": [
    {
     "data": {
      "text/plain": [
       "struck    1584\n",
       "Name: struck, dtype: int64"
      ]
     },
     "execution_count": 15,
     "metadata": {},
     "output_type": "execute_result"
    }
   ],
   "source": [
    "df.struck.value_counts()"
   ]
  },
  {
   "cell_type": "code",
   "execution_count": 16,
   "id": "79b3f8e1",
   "metadata": {},
   "outputs": [
    {
     "data": {
      "text/plain": [
       "fall    1730\n",
       "Name: fall, dtype: int64"
      ]
     },
     "execution_count": 16,
     "metadata": {},
     "output_type": "execute_result"
    }
   ],
   "source": [
    "df.fall.value_counts()"
   ]
  },
  {
   "cell_type": "code",
   "execution_count": 17,
   "id": "8544ded3",
   "metadata": {},
   "outputs": [
    {
     "data": {
      "text/plain": [
       "shot    133\n",
       "Name: shot, dtype: int64"
      ]
     },
     "execution_count": 17,
     "metadata": {},
     "output_type": "execute_result"
    }
   ],
   "source": [
    "df.shot.value_counts()"
   ]
  },
  {
   "cell_type": "code",
   "execution_count": 18,
   "id": "6a538c1e",
   "metadata": {},
   "outputs": [
    {
     "data": {
      "text/plain": [
       "stabbed       22\n",
       "stabilizer     3\n",
       "Name: stabbed, dtype: int64"
      ]
     },
     "execution_count": 18,
     "metadata": {},
     "output_type": "execute_result"
    }
   ],
   "source": [
    "df.stabbed.value_counts()"
   ]
  },
  {
   "cell_type": "code",
   "execution_count": 19,
   "id": "a417e55b",
   "metadata": {},
   "outputs": [
    {
     "data": {
      "text/plain": [
       "crushed     1028\n",
       "crusher        2\n",
       "crushws        1\n",
       "crushing       1\n",
       "Name: crushed, dtype: int64"
      ]
     },
     "execution_count": 19,
     "metadata": {},
     "output_type": "execute_result"
    }
   ],
   "source": [
    "df.crushed.value_counts()"
   ]
  },
  {
   "cell_type": "code",
   "execution_count": 20,
   "id": "f7c9de7a",
   "metadata": {},
   "outputs": [
    {
     "data": {
      "text/plain": [
       "electrocuted    474\n",
       "Name: electrocuted, dtype: int64"
      ]
     },
     "execution_count": 20,
     "metadata": {},
     "output_type": "execute_result"
    }
   ],
   "source": [
    "df.electrocuted.value_counts()"
   ]
  },
  {
   "cell_type": "code",
   "execution_count": 21,
   "id": "827288e3",
   "metadata": {},
   "outputs": [
    {
     "data": {
      "text/plain": [
       "heat    113\n",
       "Name: heat, dtype: int64"
      ]
     },
     "execution_count": 21,
     "metadata": {},
     "output_type": "execute_result"
    }
   ],
   "source": [
    "df.heat.value_counts()\n",
    "\n",
    "#plot the deaths in datawrapper "
   ]
  }
 ],
 "metadata": {
  "kernelspec": {
   "display_name": "Python 3 (ipykernel)",
   "language": "python",
   "name": "python3"
  },
  "language_info": {
   "codemirror_mode": {
    "name": "ipython",
    "version": 3
   },
   "file_extension": ".py",
   "mimetype": "text/x-python",
   "name": "python",
   "nbconvert_exporter": "python",
   "pygments_lexer": "ipython3",
   "version": "3.11.0rc2"
  }
 },
 "nbformat": 4,
 "nbformat_minor": 5
}
