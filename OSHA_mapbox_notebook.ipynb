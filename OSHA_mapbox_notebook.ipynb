{
 "cells": [
  {
   "cell_type": "code",
   "execution_count": null,
   "id": "42701b1d",
   "metadata": {},
   "outputs": [],
   "source": [
    "import pandas as pd\n",
    "import numpy as np\n",
    "df = pd.read_csv(\"/Users/rachelp/Documents/OSHA_all_with_geocodes.csv\")\n",
    "df['city_and_state']= df.city+ \", \" + df.state\n",
    "df"
   ]
  },
  {
   "cell_type": "code",
   "execution_count": null,
   "id": "4abcdda6",
   "metadata": {},
   "outputs": [],
   "source": [
    "df[\"cause_details\"]= df.date_of_incident + \", \" + df.cause + \",\" + df.city_and_state\n",
    "pd.options.display.max_colwidth = None\n",
    "df.head()"
   ]
  },
  {
   "cell_type": "code",
   "execution_count": null,
   "id": "2c41f591",
   "metadata": {},
   "outputs": [],
   "source": [
    "df1 = df.groupby(['state'])['state'].count().reset_index(name=\"count\")\n",
    "df1.tail(60)"
   ]
  },
  {
   "cell_type": "code",
   "execution_count": null,
   "id": "475a9a5d",
   "metadata": {},
   "outputs": [],
   "source": [
    "df1[\"string\"] = df1[\"state\"] + \": \" + df1[\"count\"].astype(str)\n",
    "df1.tail(40)"
   ]
  },
  {
   "cell_type": "code",
   "execution_count": null,
   "id": "a5d59336",
   "metadata": {},
   "outputs": [],
   "source": [
    "output = df.groupby('state')['cause_details'].apply(lambda x: \"<div class='incident'><h1><b>Worker Fatalities:</b></h1><P>{0}</P></div>\".format('</p><p> '.join(x))).reset_index(name='properties.article')\n",
    "output"
   ]
  },
  {
   "cell_type": "code",
   "execution_count": null,
   "id": "30e978c5",
   "metadata": {},
   "outputs": [],
   "source": [
    "deaths = df.groupby(['state'])['state'].count().reset_index(name=\"properties.headline\")\n",
    "deaths"
   ]
  },
  {
   "cell_type": "code",
   "execution_count": 96,
   "id": "7f8bb1dd",
   "metadata": {},
   "outputs": [],
   "source": [
    "deaths['properties.headline'] = deaths['state'] + \" had \" + deaths['properties.headline'].astype(str) + \"workplace deaths between 2017 and September 2022.\""
   ]
  },
  {
   "cell_type": "code",
   "execution_count": 97,
   "id": "bbe82218",
   "metadata": {},
   "outputs": [],
   "source": [
    "output = output.merge(deaths, how='left', on= \"state\")"
   ]
  },
  {
   "cell_type": "code",
   "execution_count": null,
   "id": "14e356c6",
   "metadata": {},
   "outputs": [],
   "source": [
    "ratings = df.groupby(['state'])['state'].count().reset_index(name=\"properties.rating\")\n",
    "ratings"
   ]
  },
  {
   "cell_type": "code",
   "execution_count": null,
   "id": "670e53f6",
   "metadata": {},
   "outputs": [],
   "source": [
    "output = output.merge(ratings, how='left', on= \"state\")\n",
    "output"
   ]
  },
  {
   "cell_type": "code",
   "execution_count": 115,
   "id": "f597b76a",
   "metadata": {},
   "outputs": [],
   "source": [
    "import requests\n",
    "import json\n",
    "from pandas import json_normalize"
   ]
  },
  {
   "cell_type": "code",
   "execution_count": 129,
   "id": "d7780ebb",
   "metadata": {},
   "outputs": [],
   "source": [
    "with open('/Users/rachelp/Downloads/tl_2022_us_state (1) (1).json') as json_data:\n",
    "    geometry_data = json.load(json_data)"
   ]
  },
  {
   "cell_type": "code",
   "execution_count": 130,
   "id": "9da5572b",
   "metadata": {},
   "outputs": [],
   "source": [
    "df_geometry = pd.DataFrame.from_dict(json_normalize(geometry_data['features']), orient='columns')\n",
    "df_geometry.head()"
   ]
  },
  {
   "cell_type": "code",
   "execution_count": null,
   "id": "ab9f5e15",
   "metadata": {},
   "outputs": [],
   "source": [
    "df2 = df_geometry.drop(df_geometry.columns[[0,3, 4,5,6,7,10,11,12,13,14,15,16]], axis=1)\n",
    "df2"
   ]
  },
  {
   "cell_type": "code",
   "execution_count": 133,
   "id": "701fa148",
   "metadata": {},
   "outputs": [],
   "source": [
    "final_df = output.merge(df2, how='left', left_on='state', right_on='properties.STUSPS')\n",
    "final_df"
   ]
  },
  {
   "cell_type": "code",
   "execution_count": 135,
   "id": "4fcdb08e",
   "metadata": {},
   "outputs": [],
   "source": [
    "ok_json = json.loads(final_df.to_json(orient='records'))\n",
    "ok_json"
   ]
  },
  {
   "cell_type": "code",
   "execution_count": 137,
   "id": "953d10b6",
   "metadata": {},
   "outputs": [],
   "source": [
    "def process_to_geojson(file):\n",
    "    geo_data = {\"type\": \"FeatureCollection\", \"features\":[]}\n",
    "    for row in file:\n",
    "        this_dict = {\"type\": \"Feature\", \"properties\":{}, \"geometry\": {}}\n",
    "        for key, value in row.items():\n",
    "            key_names = key.split('.')\n",
    "            if key_names[0] == 'geometry':\n",
    "                this_dict['geometry'][key_names[1]] = value\n",
    "            if str(key_names[0]) == 'properties':\n",
    "                this_dict['properties'][key_names[1]] = value\n",
    "        geo_data['features'].append(this_dict)\n",
    "    return geo_data"
   ]
  },
  {
   "cell_type": "code",
   "execution_count": 138,
   "id": "317d653b",
   "metadata": {},
   "outputs": [],
   "source": [
    "geo_format = process_to_geojson(ok_json)\n",
    "geo_format"
   ]
  },
  {
   "cell_type": "code",
   "execution_count": 140,
   "id": "09bf1369",
   "metadata": {},
   "outputs": [],
   "source": [
    "with open('geo-data12-8.js', 'w') as outfile:\n",
    "    outfile.write(\"var infoData = \")\n",
    "#geojson output\n",
    "with open('geo-data12-8.js', 'a') as outfile:\n",
    "    json.dump(geo_format, outfile)"
   ]
  }
 ],
 "metadata": {
  "kernelspec": {
   "display_name": "Python 3 (ipykernel)",
   "language": "python",
   "name": "python3"
  },
  "language_info": {
   "codemirror_mode": {
    "name": "ipython",
    "version": 3
   },
   "file_extension": ".py",
   "mimetype": "text/x-python",
   "name": "python",
   "nbconvert_exporter": "python",
   "pygments_lexer": "ipython3",
   "version": "3.11.0rc2"
  }
 },
 "nbformat": 4,
 "nbformat_minor": 5
}
